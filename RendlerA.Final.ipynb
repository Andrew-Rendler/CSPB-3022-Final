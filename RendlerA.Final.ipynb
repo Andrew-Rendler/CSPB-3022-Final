{
 "cells": [
  {
   "cell_type": "code",
   "execution_count": 1,
   "metadata": {},
   "outputs": [],
   "source": [
    "%matplotlib inline\n",
    "import sklearn.model_selection\n",
    "import sklearn.neighbors\n",
    "import sklearn.linear_model\n",
    "from sklearn.tree import DecisionTreeClassifier \n",
    "import numpy as np\n",
    "import pandas as pd\n",
    "import matplotlib.pyplot as plt\n",
    "import seaborn as sns; sns.set()\n",
    "import pandas as pd\n",
    "import patsy\n",
    "import sklearn\n",
    "msamples = pd.read_csv('agaricus-lepiota.csv')"
   ]
  },
  {
   "cell_type": "markdown",
   "metadata": {},
   "source": [
    "# Poisonous Mushroom Classification (Final Project)\n",
    "# Introduction to Data Science Algorithms\n",
    "# CSCI 3022\n",
    "\n",
    "# Andrew Rendler\n",
    "<br>\n",
    "<br>\n",
    "<br>\n",
    "\n"
   ]
  },
  {
   "cell_type": "markdown",
   "metadata": {},
   "source": [
    "\n",
    "\n",
    "\n",
    "\n",
    "\n",
    "\n",
    "\n",
    "# The Data\n",
    "\n",
    "\n",
    "\n",
    "\n",
    "\n"
   ]
  },
  {
   "cell_type": "markdown",
   "metadata": {},
   "source": [
    "### Dataset Selection:\n",
    "For this project I chose to use the 'Mushroom Data Set' found on UCI Machine Learning Repository https://archive.ics.uci.edu/ml/datasets/mushroom. The\n",
    "\n",
    "information found in this dataset originated from The Audubon Society Field Guide to North American Mushrooms (1981). G. H. Lincoff (Pres.), New York: Alfred A.\n",
    "\n",
    "Knopf, it is comprised of 22 attributes, all categorical features, as follows:\n",
    "\n",
    "\n",
    "    \n",
    "- Edible or Poisonous !! This will be my target feature in the classification exercise !!\n",
    "- Cap Shape (bell=b,conical=c,convex=x,flat=f, knobbed=k,sunken=s)\n",
    "- Cap Surface (fibrous=f,grooves=g,scaly=y,smooth=s)\n",
    "- Cap Color (brown=n,buff=b,cinnamon=c,gray=g,green=r, pink=p,purple=u,red=e,white=w,yellow=y)\n",
    "- Whether or not the flesh of the mushroom bruises, or discolors when crushed or abraided (bruises=t,no=f)\n",
    "- Whether the mushroom has an odor (almond=a,anise=l,creosote=c,fishy=y,foul=f, musty=m,none=n,pungent=p,spicy=s)\n",
    "- Gill Attachement (attached=a,descending=d,free=f,notched=n)\n",
    "- Gill Spacing (close=c,crowded=w,distant=d)\n",
    "- Gill Size (broad=b,narrow=n)\n",
    "- Stalk Shape (enlarging=e,tapering=t)\n",
    "- Stalk Root (bulbous=b,club=c,cup=u,equal=e, rhizomorphs=z,rooted=r,missing=?)\n",
    "- Stalk Surface Above Ring (where the veil meets the stalk) (fibrous=f,scaly=y,silky=k,smooth=s)\n",
    "- Stalk Surface Below Ring (where the veil meets the stalk) (fibrous=f,scaly=y,silky=k,smooth=s)\n",
    "- Stalk Color Above Ring (brown=n,buff=b,cinnamon=c,gray=g,orange=o, pink=p,red=e,white=w,yellow=y)\n",
    "- Stalk Color Below Ring (brown=n,buff=b,cinnamon=c,gray=g,orange=o, pink=p,red=e,white=w,yellow=y)\n",
    "- Veil Type (partial=p,universal=u)\n",
    "- Veil Color (brown=n,orange=o,white=w,yellow=y)\n",
    "- Ring Number (none=n,one=o,two=t)\n",
    "- Ring Type (cobwebby=c,evanescent=e,flaring=f,large=l, none=n,pendant=p,sheathing=s,zone=z)\n",
    "- Spore Print Color (black=k,brown=n,buff=b,chocolate=h,green=r, orange=o,purple=u,white=w,yellow=y)\n",
    "- Population (abundant=a,clustered=c,numerous=n, scattered=s,several=v,solitary=y)\n",
    "- Habitat (grasses=g,leaves=l,meadows=m,paths=p, urban=u,waste=w,woods=d)\n",
    "    \n",
    "The dataset contains 8124 unique observations, each record describes a hypothetical sample corresponding to 23 species of gilled mushrooms in the Agaricus and Lepiota Family.\n",
    "    \n",
    "### Dataset Integrity: \n",
    "I am confident in the quality of this information, as it is a set of information scraped from a highly trusted resource, The Audubon Society Field Guide to North\n",
    "\n",
    "American Mushrooms. From my cursory review, there are a few records where one or more features are null, this is denoted by '?'. I will make a determination as \n",
    "\n",
    "to whether I exclude those records once I start to narrow down which features I apply to the solution. There is really no opportunity to replace this value with \n",
    "\n",
    "a calculation, so exclusion would be the only option. There are also 50+ research papers referencing this dataset, so it is not untested or obscure. I do not\n",
    "\n",
    "think that this dat requires transformation or outliers that need cleaning.\n"
   ]
  },
  {
   "cell_type": "markdown",
   "metadata": {},
   "source": [
    "### Preview of Data"
   ]
  },
  {
   "cell_type": "code",
   "execution_count": 2,
   "metadata": {},
   "outputs": [
    {
     "data": {
      "text/html": [
       "<div>\n",
       "<style scoped>\n",
       "    .dataframe tbody tr th:only-of-type {\n",
       "        vertical-align: middle;\n",
       "    }\n",
       "\n",
       "    .dataframe tbody tr th {\n",
       "        vertical-align: top;\n",
       "    }\n",
       "\n",
       "    .dataframe thead th {\n",
       "        text-align: right;\n",
       "    }\n",
       "</style>\n",
       "<table border=\"1\" class=\"dataframe\">\n",
       "  <thead>\n",
       "    <tr style=\"text-align: right;\">\n",
       "      <th></th>\n",
       "      <th>edible</th>\n",
       "      <th>cap_shape</th>\n",
       "      <th>cap_surface</th>\n",
       "      <th>cap_color</th>\n",
       "      <th>bruises</th>\n",
       "      <th>odor</th>\n",
       "      <th>gill_attachment</th>\n",
       "      <th>gill_spacing</th>\n",
       "      <th>gill_size</th>\n",
       "      <th>gill_color</th>\n",
       "      <th>...</th>\n",
       "      <th>stalk_surface_below_ring</th>\n",
       "      <th>stalk_color_above_ring</th>\n",
       "      <th>stalk_color_below_ring</th>\n",
       "      <th>veil_type</th>\n",
       "      <th>veil_color</th>\n",
       "      <th>ring_number</th>\n",
       "      <th>ring_type</th>\n",
       "      <th>spore_print_color</th>\n",
       "      <th>population</th>\n",
       "      <th>habitat</th>\n",
       "    </tr>\n",
       "  </thead>\n",
       "  <tbody>\n",
       "    <tr>\n",
       "      <th>0</th>\n",
       "      <td>p</td>\n",
       "      <td>x</td>\n",
       "      <td>s</td>\n",
       "      <td>n</td>\n",
       "      <td>t</td>\n",
       "      <td>p</td>\n",
       "      <td>f</td>\n",
       "      <td>c</td>\n",
       "      <td>n</td>\n",
       "      <td>k</td>\n",
       "      <td>...</td>\n",
       "      <td>s</td>\n",
       "      <td>w</td>\n",
       "      <td>w</td>\n",
       "      <td>p</td>\n",
       "      <td>w</td>\n",
       "      <td>o</td>\n",
       "      <td>p</td>\n",
       "      <td>k</td>\n",
       "      <td>s</td>\n",
       "      <td>u</td>\n",
       "    </tr>\n",
       "    <tr>\n",
       "      <th>1</th>\n",
       "      <td>e</td>\n",
       "      <td>x</td>\n",
       "      <td>s</td>\n",
       "      <td>y</td>\n",
       "      <td>t</td>\n",
       "      <td>a</td>\n",
       "      <td>f</td>\n",
       "      <td>c</td>\n",
       "      <td>b</td>\n",
       "      <td>k</td>\n",
       "      <td>...</td>\n",
       "      <td>s</td>\n",
       "      <td>w</td>\n",
       "      <td>w</td>\n",
       "      <td>p</td>\n",
       "      <td>w</td>\n",
       "      <td>o</td>\n",
       "      <td>p</td>\n",
       "      <td>n</td>\n",
       "      <td>n</td>\n",
       "      <td>g</td>\n",
       "    </tr>\n",
       "    <tr>\n",
       "      <th>2</th>\n",
       "      <td>e</td>\n",
       "      <td>b</td>\n",
       "      <td>s</td>\n",
       "      <td>w</td>\n",
       "      <td>t</td>\n",
       "      <td>l</td>\n",
       "      <td>f</td>\n",
       "      <td>c</td>\n",
       "      <td>b</td>\n",
       "      <td>n</td>\n",
       "      <td>...</td>\n",
       "      <td>s</td>\n",
       "      <td>w</td>\n",
       "      <td>w</td>\n",
       "      <td>p</td>\n",
       "      <td>w</td>\n",
       "      <td>o</td>\n",
       "      <td>p</td>\n",
       "      <td>n</td>\n",
       "      <td>n</td>\n",
       "      <td>m</td>\n",
       "    </tr>\n",
       "    <tr>\n",
       "      <th>3</th>\n",
       "      <td>p</td>\n",
       "      <td>x</td>\n",
       "      <td>y</td>\n",
       "      <td>w</td>\n",
       "      <td>t</td>\n",
       "      <td>p</td>\n",
       "      <td>f</td>\n",
       "      <td>c</td>\n",
       "      <td>n</td>\n",
       "      <td>n</td>\n",
       "      <td>...</td>\n",
       "      <td>s</td>\n",
       "      <td>w</td>\n",
       "      <td>w</td>\n",
       "      <td>p</td>\n",
       "      <td>w</td>\n",
       "      <td>o</td>\n",
       "      <td>p</td>\n",
       "      <td>k</td>\n",
       "      <td>s</td>\n",
       "      <td>u</td>\n",
       "    </tr>\n",
       "    <tr>\n",
       "      <th>4</th>\n",
       "      <td>e</td>\n",
       "      <td>x</td>\n",
       "      <td>s</td>\n",
       "      <td>g</td>\n",
       "      <td>f</td>\n",
       "      <td>n</td>\n",
       "      <td>f</td>\n",
       "      <td>w</td>\n",
       "      <td>b</td>\n",
       "      <td>k</td>\n",
       "      <td>...</td>\n",
       "      <td>s</td>\n",
       "      <td>w</td>\n",
       "      <td>w</td>\n",
       "      <td>p</td>\n",
       "      <td>w</td>\n",
       "      <td>o</td>\n",
       "      <td>e</td>\n",
       "      <td>n</td>\n",
       "      <td>a</td>\n",
       "      <td>g</td>\n",
       "    </tr>\n",
       "  </tbody>\n",
       "</table>\n",
       "<p>5 rows × 23 columns</p>\n",
       "</div>"
      ],
      "text/plain": [
       "  edible cap_shape cap_surface cap_color bruises odor gill_attachment  \\\n",
       "0      p         x           s         n       t    p               f   \n",
       "1      e         x           s         y       t    a               f   \n",
       "2      e         b           s         w       t    l               f   \n",
       "3      p         x           y         w       t    p               f   \n",
       "4      e         x           s         g       f    n               f   \n",
       "\n",
       "  gill_spacing gill_size gill_color   ...   stalk_surface_below_ring  \\\n",
       "0            c         n          k   ...                          s   \n",
       "1            c         b          k   ...                          s   \n",
       "2            c         b          n   ...                          s   \n",
       "3            c         n          n   ...                          s   \n",
       "4            w         b          k   ...                          s   \n",
       "\n",
       "  stalk_color_above_ring stalk_color_below_ring veil_type veil_color  \\\n",
       "0                      w                      w         p          w   \n",
       "1                      w                      w         p          w   \n",
       "2                      w                      w         p          w   \n",
       "3                      w                      w         p          w   \n",
       "4                      w                      w         p          w   \n",
       "\n",
       "  ring_number ring_type spore_print_color population habitat  \n",
       "0           o         p                 k          s       u  \n",
       "1           o         p                 n          n       g  \n",
       "2           o         p                 n          n       m  \n",
       "3           o         p                 k          s       u  \n",
       "4           o         e                 n          a       g  \n",
       "\n",
       "[5 rows x 23 columns]"
      ]
     },
     "execution_count": 2,
     "metadata": {},
     "output_type": "execute_result"
    }
   ],
   "source": [
    "msamples[:5]"
   ]
  },
  {
   "cell_type": "markdown",
   "metadata": {},
   "source": [
    "<br>\n",
    "<br>\n",
    "<br>\n",
    "\n",
    "# Problem Statement and Approach:\n",
    "\n",
    "The problem is simple - Identify a set of attributes, that could be reasonably measured or observed by the average human, that would allow said individual to \n",
    "make a determination as to whether a mushroom found in the wild is edible. I want to be clear: this is not something that I would recommend anyone \n",
    "use in practice, but moreso - can it be done? I am confident that this can be done using at most 3 features. \n",
    "<br>\n",
    "<br>\n",
    "I think that this problem is interesting because I love hunting mushrooms. Colorodo has plentiful edible mushrooms in every season but winter (though sometimes the morels pop early, in mid March, and that is technically winter), and over the years I have learned to identify quite a few varieties, including some poisonous lookalikes. I think that this specific dataset is interesting because agaricus is very common (the common 'table' white button mushroom is agaricus genus), but some are fatally poisonous to humans. I would also like to test some personal 'anecdotal' rules that I have learned about identifying poisonous mushrooms, namely the cap color and odor. If the cap is red or vibrantly colored, it is likely poisonous - or if it smells bad or spicy, dont eat it. Though this doesn't apply to the prized matsutake, which smell of cinnamon, or lobster mushrooms with their vibrant red flesh. This nuanced identification method is one of the reasons that identifying mushrooms can be risky, there is no easy to follow rule. This is even more apparent with agaricus, two mushrooms can look almost identical, one will be delicious cooked in butter and the other will kill you.\n",
    "<br>\n",
    "<br>\n",
    "- Agaricus silvicola (great cooked in butter)\n",
    "- Amanita bisporigera (will definitely kill you)\n",
    "<br>\n",
    "<br>\n",
    "\n",
    "There is almost no distinction when comparing the two.\n",
    "<br>\n",
    "<br>\n",
    "My approach will be classification, with the target feature being 'Edible or Poisonous'- I would like to achieve a score of > 99.9% accuracy in this classification. I will use methods such as logistic regression and k-nearest neighbors.\n",
    "<br>\n",
    "<br>\n",
    "<br>\n"
   ]
  },
  {
   "cell_type": "markdown",
   "metadata": {},
   "source": [
    "# Exploratory Data Analysis\n",
    "\n",
    "Since these are all categorical variables I am limited in the representations that I can use to represent, and since I am trying to identify a relationship between a few of the explantory features contained in the dataset and the variable 'edible', I want to see if there are any patterns between each features distribution between the two characteristics contained within the edible variable - p (poisonous) and e (edible). I will do this with a series of bar plots.\n",
    "\n"
   ]
  },
  {
   "cell_type": "code",
   "execution_count": 3,
   "metadata": {},
   "outputs": [
    {
     "data": {
      "image/png": "[encoded data removed]",
      "text/plain": [
       "<Figure size 422.8x360 with 1 Axes>"
      ]
     },
     "metadata": {
      "needs_background": "light"
     },
     "output_type": "display_data"
    }
   ],
   "source": [
    "sns.catplot(x=\"edible\", y= None, hue=\"cap_shape\", kind=\"count\", data=msamples);\n",
    "\n",
    "# It is unlikely that this is a good candidate for an explanatory variable, as the distribution of cap \n",
    "#shape between poisonous and edible is uniform between several cap_shape characteristics (x,f)"
   ]
  },
  {
   "cell_type": "code",
   "execution_count": 4,
   "metadata": {},
   "outputs": [
    {
     "data": {
      "image/png": "[encoded data removed]",
      "text/plain": [
       "<Figure size 429.675x360 with 1 Axes>"
      ]
     },
     "metadata": {
      "needs_background": "light"
     },
     "output_type": "display_data"
    }
   ],
   "source": [
    "sns.catplot(x=\"edible\", y= None, hue=\"cap_surface\", kind=\"count\", data=msamples);\n",
    "\n",
    "# It is unlikely that this is a good candidate for an explanatory variable, as the distribution of cap \n",
    "#surface between poisonous and edible is uniform between several cap_surface characteristics (all)"
   ]
  },
  {
   "cell_type": "code",
   "execution_count": 5,
   "metadata": {},
   "outputs": [
    {
     "data": {
      "image/png": "[encoded data removed]",
      "text/plain": [
       "<Figure size 416.8x360 with 1 Axes>"
      ]
     },
     "metadata": {
      "needs_background": "light"
     },
     "output_type": "display_data"
    }
   ],
   "source": [
    "sns.catplot(x=\"edible\", y= None, hue=\"cap_color\", kind=\"count\", data=msamples);\n",
    "\n",
    "# Contrary to my anecdotal rule, it is unlikely that this is a good candidate for an explanatory variable, as the distribution of cap \n",
    "#color between poisonous and edible is uniform between several cap_color characteristics (all)"
   ]
  },
  {
   "cell_type": "code",
   "execution_count": 6,
   "metadata": {},
   "outputs": [
    {
     "data": {
      "image/png": "[encoded data removed]",
      "text/plain": [
       "<Figure size 405.675x360 with 1 Axes>"
      ]
     },
     "metadata": {
      "needs_background": "light"
     },
     "output_type": "display_data"
    }
   ],
   "source": [
    "sns.catplot(x=\"edible\", y= None, hue=\"bruises\", kind=\"count\", data=msamples);\n",
    "\n",
    "# This one might actually be a beneficial option, it appears as if most edible mushrooms bruise. I dont think this will get us all the way, but it could help \n",
    "#close a gap to my >99.9% score goal. "
   ]
  },
  {
   "cell_type": "code",
   "execution_count": 7,
   "metadata": {},
   "outputs": [
    {
     "data": {
      "image/png": "[encoded data removed]",
      "text/plain": [
       "<Figure size 410.35x360 with 1 Axes>"
      ]
     },
     "metadata": {
      "needs_background": "light"
     },
     "output_type": "display_data"
    }
   ],
   "source": [
    "sns.catplot(x=\"edible\", y= None, hue=\"odor\", kind=\"count\", data=msamples);\n",
    "\n",
    "# This looks like another good explanatory variable too. There is very little overlap here. This supports my anecdotal rule, that if it smells bad, dont eat it."
   ]
  },
  {
   "cell_type": "code",
   "execution_count": 8,
   "metadata": {},
   "outputs": [
    {
     "data": {
      "image/png": "[encoded data removed]",
      "text/plain": [
       "<Figure size 448.55x360 with 1 Axes>"
      ]
     },
     "metadata": {
      "needs_background": "light"
     },
     "output_type": "display_data"
    }
   ],
   "source": [
    "sns.catplot(x=\"edible\", y= None, hue=\"gill_attachment\", kind=\"count\", data=msamples);\n",
    "\n",
    "# This could be marginally helpful - you know if gill attachment = a, it is edible"
   ]
  },
  {
   "cell_type": "code",
   "execution_count": 9,
   "metadata": {},
   "outputs": [
    {
     "data": {
      "image/png": "[encoded data removed]",
      "text/plain": [
       "<Figure size 428.175x360 with 1 Axes>"
      ]
     },
     "metadata": {
      "needs_background": "light"
     },
     "output_type": "display_data"
    }
   ],
   "source": [
    "sns.catplot(x=\"edible\", y= None, hue=\"gill_spacing\", kind=\"count\", data=msamples);\n",
    "\n",
    "# It is unlikely that this is a good candidate for an explanatory variable, as the distribution of  \n",
    "#gill spacing between poisonous and edible is uniform between the two characteristics (c)"
   ]
  },
  {
   "cell_type": "code",
   "execution_count": 10,
   "metadata": {},
   "outputs": [
    {
     "data": {
      "image/png": "[encoded data removed]",
      "text/plain": [
       "<Figure size 408.8x360 with 1 Axes>"
      ]
     },
     "metadata": {
      "needs_background": "light"
     },
     "output_type": "display_data"
    }
   ],
   "source": [
    "sns.catplot(x=\"edible\", y= None, hue=\"gill_size\", kind=\"count\", data=msamples);\n",
    "\n",
    "# It is unlikely that this is a good candidate for an explanatory variable, as the distribution of  \n",
    "#gill size between poisonous and edible is uniform between the two characteristics (b)"
   ]
  },
  {
   "cell_type": "code",
   "execution_count": 11,
   "metadata": {},
   "outputs": [
    {
     "data": {
      "image/png": "[encoded data removed]",
      "text/plain": [
       "<Figure size 429.175x360 with 1 Axes>"
      ]
     },
     "metadata": {
      "needs_background": "light"
     },
     "output_type": "display_data"
    }
   ],
   "source": [
    "sns.catplot(x=\"edible\", y= None, hue=\"stalk_shape\", kind=\"count\", data=msamples);\n",
    "\n",
    "# Nope. Stalk Shape is Definitely not meaningful"
   ]
  },
  {
   "cell_type": "code",
   "execution_count": 12,
   "metadata": {},
   "outputs": [
    {
     "data": {
      "image/png": "[encoded data removed]",
      "text/plain": [
       "<Figure size 497.175x360 with 1 Axes>"
      ]
     },
     "metadata": {
      "needs_background": "light"
     },
     "output_type": "display_data"
    }
   ],
   "source": [
    "sns.catplot(x=\"edible\", y= None, hue=\"stalk_surface_above_ring\", kind=\"count\", data=msamples);\n",
    "\n",
    "# It is unlikely that this is a good candidate for an explanatory variable, as the distribution of  \n",
    "#stalk surface above ring characteristics between poisonous and edible is uniform"
   ]
  },
  {
   "cell_type": "code",
   "execution_count": 13,
   "metadata": {},
   "outputs": [
    {
     "data": {
      "image/png": "[encoded data removed]",
      "text/plain": [
       "<Figure size 496.175x360 with 1 Axes>"
      ]
     },
     "metadata": {
      "needs_background": "light"
     },
     "output_type": "display_data"
    }
   ],
   "source": [
    "sns.catplot(x=\"edible\", y= None, hue=\"stalk_surface_below_ring\", kind=\"count\", data=msamples);\n",
    "\n",
    "# This could be marginally helpful, >2000 samples have stalk surface below ring = k where it is poisonous, and there are much fewer samples found with the same \n",
    "# characteristics that are edible."
   ]
  },
  {
   "cell_type": "code",
   "execution_count": 14,
   "metadata": {},
   "outputs": [
    {
     "data": {
      "image/png": "[encoded data removed]",
      "text/plain": [
       "<Figure size 483.3x360 with 1 Axes>"
      ]
     },
     "metadata": {
      "needs_background": "light"
     },
     "output_type": "display_data"
    }
   ],
   "source": [
    "sns.catplot(x=\"edible\", y= None, hue=\"stalk_color_below_ring\", kind=\"count\", data=msamples);\n",
    "\n",
    "# It is unlikely that this is a good candidate for an explanatory variable, as the distribution of  \n",
    "#stalk color below ring characteristics between poisonous and edible is uniform"
   ]
  },
  {
   "cell_type": "code",
   "execution_count": 15,
   "metadata": {},
   "outputs": [
    {
     "data": {
      "image/png": "[encoded data removed]",
      "text/plain": [
       "<Figure size 484.3x360 with 1 Axes>"
      ]
     },
     "metadata": {
      "needs_background": "light"
     },
     "output_type": "display_data"
    }
   ],
   "source": [
    "sns.catplot(x=\"edible\", y= None, hue=\"stalk_color_above_ring\", kind=\"count\", data=msamples);\n",
    "\n",
    "# The variability of the color, from above to below the ring, is low so you wouldnt exect a different response. It is unlikely that this \n",
    "#is a good candidate for an explanatory variable, as the distribution of  \n",
    "#stalk color above ring characteristics between poisonous and edible is uniform"
   ]
  },
  {
   "cell_type": "code",
   "execution_count": 16,
   "metadata": {},
   "outputs": [
    {
     "data": {
      "image/png": "[encoded data removed]",
      "text/plain": [
       "<Figure size 414.675x360 with 1 Axes>"
      ]
     },
     "metadata": {
      "needs_background": "light"
     },
     "output_type": "display_data"
    }
   ],
   "source": [
    "sns.catplot(x=\"edible\", y= None, hue=\"veil_type\", kind=\"count\", data=msamples);\n",
    "\n",
    "# No, this one wont work"
   ]
  },
  {
   "cell_type": "code",
   "execution_count": 17,
   "metadata": {},
   "outputs": [
    {
     "data": {
      "image/png": "[encoded data removed]",
      "text/plain": [
       "<Figure size 416.675x360 with 1 Axes>"
      ]
     },
     "metadata": {
      "needs_background": "light"
     },
     "output_type": "display_data"
    }
   ],
   "source": [
    "sns.catplot(x=\"edible\", y= None, hue=\"veil_color\", kind=\"count\", data=msamples);\n",
    "\n",
    "# It is unlikely that this is a good candidate for an explanatory variable, as the distribution of  \n",
    "#veil color characteristics between poisonous and edible is uniform"
   ]
  },
  {
   "cell_type": "code",
   "execution_count": 18,
   "metadata": {},
   "outputs": [
    {
     "data": {
      "image/png": "[encoded data removed]",
      "text/plain": [
       "<Figure size 433.55x360 with 1 Axes>"
      ]
     },
     "metadata": {
      "needs_background": "light"
     },
     "output_type": "display_data"
    }
   ],
   "source": [
    "sns.catplot(x=\"edible\", y= None, hue=\"ring_number\", kind=\"count\", data=msamples);\n",
    "\n",
    "# It is unlikely that this is a good candidate for an explanatory variable, as the distribution of  \n",
    "#ring number characteristics between poisonous and edible is uniform"
   ]
  },
  {
   "cell_type": "code",
   "execution_count": 19,
   "metadata": {},
   "outputs": [
    {
     "data": {
      "image/png": "[encoded data removed]",
      "text/plain": [
       "<Figure size 416.55x360 with 1 Axes>"
      ]
     },
     "metadata": {
      "needs_background": "light"
     },
     "output_type": "display_data"
    }
   ],
   "source": [
    "sns.catplot(x=\"edible\", y= None, hue=\"ring_type\", kind=\"count\", data=msamples);\n",
    "\n",
    "# Ring type could be marginally helpful, there is no confounding on ring type = l"
   ]
  },
  {
   "cell_type": "code",
   "execution_count": 20,
   "metadata": {},
   "outputs": [
    {
     "data": {
      "image/png": "[encoded data removed]",
      "text/plain": [
       "<Figure size 456.05x360 with 1 Axes>"
      ]
     },
     "metadata": {
      "needs_background": "light"
     },
     "output_type": "display_data"
    }
   ],
   "source": [
    "sns.catplot(x=\"edible\", y= None, hue=\"spore_print_color\", kind=\"count\", data=msamples);\n",
    "\n",
    "# Spore print color looks like it might be good too, there is some crossover between edible, but good separation."
   ]
  },
  {
   "cell_type": "code",
   "execution_count": 21,
   "metadata": {},
   "outputs": [
    {
     "data": {
      "image/png": "[encoded data removed]",
      "text/plain": [
       "<Figure size 422.925x360 with 1 Axes>"
      ]
     },
     "metadata": {
      "needs_background": "light"
     },
     "output_type": "display_data"
    }
   ],
   "source": [
    "sns.catplot(x=\"edible\", y= None, hue=\"population\", kind=\"count\", data=msamples);\n",
    "\n",
    "# I dont think that this would be a good choice, even it was correlated with edible, as mushrooms have a way of growing in unexpected places."
   ]
  },
  {
   "cell_type": "code",
   "execution_count": 22,
   "metadata": {},
   "outputs": [
    {
     "data": {
      "image/png": "[encoded data removed]",
      "text/plain": [
       "<Figure size 410.35x360 with 1 Axes>"
      ]
     },
     "metadata": {
      "needs_background": "light"
     },
     "output_type": "display_data"
    }
   ],
   "source": [
    "sns.catplot(x=\"edible\", y= None, hue=\"habitat\", kind=\"count\", data=msamples);\n",
    "\n",
    "# I dont think that this would be a good choice, even it was correlated with edible, as mushrooms have a way of growing in unexpected places."
   ]
  },
  {
   "cell_type": "markdown",
   "metadata": {},
   "source": [
    "### Exploratory Analysis Summary:\n",
    "\n",
    "I think that I have a good chance of accomplishing my goal - to start I am going to use odor, spore color, and stalk surface below ring."
   ]
  },
  {
   "cell_type": "markdown",
   "metadata": {},
   "source": [
    "# Classification Workflow\n"
   ]
  },
  {
   "cell_type": "markdown",
   "metadata": {},
   "source": [
    "I started by selecting 5 of the 23 features contained within the mushroom data set. My plan while I was assembling my intial writeup was to work with only 3 of the features; odor, spore color, and stalk surface below ring. I decided to incorporate 2 more into my testing, because while I was confident in the heuristic determination made with the bar plots would be directionally correct, I didn't want to limit my analysis too much at the expense of identifying some interesting synergies between features. The features that I selected to test and develop my model were:\n",
    "\n",
    "- odor\n",
    "- spore color\n",
    "- stalk surface below ring\n",
    "- bruises\n",
    "- ring type\n",
    "\n",
    "In addition of this list I wanted to test my hypothesis that the observations I was making based on characteristics exhibited by the bar plots was sound, otherwise I would have likely tested all 22 features. I selected one of the features that I guessed would not prove helpful in solving this classification problem, one with a very uniform distribution between poisonous and edible. With a binary result type (poisonous and edible) the model should at worst return 50% accuracy on average. You can see the result of this experiment in the cell below titled TEST - 51% accuracy. Using this feature to inform our guess is only marginally beneficial (1.2% change), about what I expected.  \n",
    "\n",
    "With my final list I used a forward stepwise selection method, the single feature analysis is shown in the 5 cells following the TEST cell, labeled ROUND 1. I am assigning 20% of my total record count to the test set."
   ]
  },
  {
   "cell_type": "markdown",
   "metadata": {},
   "source": [
    "### TEST"
   ]
  },
  {
   "cell_type": "code",
   "execution_count": 88,
   "metadata": {},
   "outputs": [
    {
     "name": "stdout",
     "output_type": "stream",
     "text": [
      "veil_type Score is 0.512\n",
      "[[832 793]\n",
      " [  0   0]]\n"
     ]
    }
   ],
   "source": [
    "yveil_type,Xveil_type = patsy.dmatrices('C(edible,[[0],[1]]) ~ 0 + veil_type', data = msamples)\n",
    "X_train, X_test, y_train, y_test = sklearn.model_selection.train_test_split(Xveil_type, yveil_type, test_size=0.20)\n",
    "\n",
    "\n",
    "LRClassifier = sklearn.linear_model.LogisticRegression(solver = 'saga')\n",
    "LRModel = LRClassifier.fit(X_train, y_train.ravel())\n",
    "y_hat = LRModel.predict(X_test)\n",
    "print('veil_type Score is', LRModel.score(X_test,y_test.ravel()))\n",
    "print(sklearn.metrics.confusion_matrix(y_hat, y_test))\n"
   ]
  },
  {
   "cell_type": "markdown",
   "metadata": {},
   "source": [
    "### ROUND 1"
   ]
  },
  {
   "cell_type": "code",
   "execution_count": 89,
   "metadata": {},
   "outputs": [
    {
     "name": "stdout",
     "output_type": "stream",
     "text": [
      "Bruises Score is 0.7341538461538462\n",
      "[[541 127]\n",
      " [305 652]]\n",
      "Classification Report :                precision    recall  f1-score   support\n",
      "\n",
      "         0.0       0.64      0.81      0.71       668\n",
      "         1.0       0.84      0.68      0.75       957\n",
      "\n",
      "   micro avg       0.73      0.73      0.73      1625\n",
      "   macro avg       0.74      0.75      0.73      1625\n",
      "weighted avg       0.76      0.73      0.74      1625\n",
      "\n"
     ]
    }
   ],
   "source": [
    "ybruises,Xbruises = patsy.dmatrices('C(edible,[[0],[1]]) ~ 0 + bruises', data = msamples)\n",
    "X_train, X_test, y_train, y_test = sklearn.model_selection.train_test_split(Xbruises, ybruises, test_size=0.20)\n",
    "\n",
    "\n",
    "LRClassifier = sklearn.linear_model.LogisticRegression(solver = 'saga')\n",
    "LRModel = LRClassifier.fit(X_train, y_train.ravel())\n",
    "y_hat = LRModel.predict(X_test)\n",
    "print('Bruises Score is', LRModel.score(X_test,y_test.ravel()))\n",
    "print(sklearn.metrics.confusion_matrix(y_hat, y_test))\n",
    "print(\"Classification Report : \", sklearn.metrics.classification_report(y_hat, y_test))"
   ]
  },
  {
   "cell_type": "code",
   "execution_count": 90,
   "metadata": {},
   "outputs": [
    {
     "name": "stdout",
     "output_type": "stream",
     "text": [
      "Odor Score is 0.984\n",
      "[[847  26]\n",
      " [  0 752]]\n",
      "Classification Report :                precision    recall  f1-score   support\n",
      "\n",
      "         0.0       1.00      0.97      0.98       873\n",
      "         1.0       0.97      1.00      0.98       752\n",
      "\n",
      "   micro avg       0.98      0.98      0.98      1625\n",
      "   macro avg       0.98      0.99      0.98      1625\n",
      "weighted avg       0.98      0.98      0.98      1625\n",
      "\n"
     ]
    }
   ],
   "source": [
    "yodor,Xodor = patsy.dmatrices('C(edible,[[0],[1]]) ~ 0 + odor', data = msamples)\n",
    "X_train, X_test, y_train, y_test = sklearn.model_selection.train_test_split(Xodor, yodor, test_size=0.20)\n",
    "\n",
    "\n",
    "LRClassifier = sklearn.linear_model.LogisticRegression(solver = 'saga')\n",
    "LRModel = LRClassifier.fit(X_train, y_train.ravel())\n",
    "y_hat = LRModel.predict(X_test)\n",
    "print('Odor Score is', LRModel.score(X_test,y_test.ravel()))\n",
    "print(sklearn.metrics.confusion_matrix(y_hat, y_test))\n",
    "print(\"Classification Report : \", sklearn.metrics.classification_report(y_hat, y_test))"
   ]
  },
  {
   "cell_type": "code",
   "execution_count": 91,
   "metadata": {},
   "outputs": [
    {
     "name": "stdout",
     "output_type": "stream",
     "text": [
      "stalk_surface_above_ring Score is 0.7723076923076924\n",
      "[[817 340]\n",
      " [ 30 438]]\n",
      "Classification Report :                precision    recall  f1-score   support\n",
      "\n",
      "         0.0       0.96      0.71      0.82      1157\n",
      "         1.0       0.56      0.94      0.70       468\n",
      "\n",
      "   micro avg       0.77      0.77      0.77      1625\n",
      "   macro avg       0.76      0.82      0.76      1625\n",
      "weighted avg       0.85      0.77      0.78      1625\n",
      "\n"
     ]
    }
   ],
   "source": [
    "ystalk_surface_above_ring,Xstalk_surface_above_ring = patsy.dmatrices('C(edible,[[0],[1]]) ~ 0 + stalk_surface_above_ring', data = msamples)\n",
    "X_train, X_test, y_train, y_test = sklearn.model_selection.train_test_split(Xstalk_surface_above_ring, ystalk_surface_above_ring, test_size=0.20)\n",
    "\n",
    "\n",
    "LRClassifier = sklearn.linear_model.LogisticRegression(solver = 'saga')\n",
    "LRModel = LRClassifier.fit(X_train, y_train.ravel())\n",
    "y_hat = LRModel.predict(X_test)\n",
    "print('stalk_surface_above_ring Score is', LRModel.score(X_test,y_test.ravel()))\n",
    "print(sklearn.metrics.confusion_matrix(y_hat, y_test))\n",
    "print(\"Classification Report : \", sklearn.metrics.classification_report(y_hat, y_test))"
   ]
  },
  {
   "cell_type": "code",
   "execution_count": 92,
   "metadata": {},
   "outputs": [
    {
     "name": "stdout",
     "output_type": "stream",
     "text": [
      "ring_type Score is 0.768\n",
      "[[631 169]\n",
      " [208 617]]\n",
      "Classification Report :                precision    recall  f1-score   support\n",
      "\n",
      "         0.0       0.75      0.79      0.77       800\n",
      "         1.0       0.78      0.75      0.77       825\n",
      "\n",
      "   micro avg       0.77      0.77      0.77      1625\n",
      "   macro avg       0.77      0.77      0.77      1625\n",
      "weighted avg       0.77      0.77      0.77      1625\n",
      "\n"
     ]
    }
   ],
   "source": [
    "yring_type,Xring_type = patsy.dmatrices('C(edible,[[0],[1]]) ~ 0 + ring_type', data = msamples)\n",
    "X_train, X_test, y_train, y_test = sklearn.model_selection.train_test_split(Xring_type, yring_type, test_size=0.20)\n",
    "\n",
    "\n",
    "LRClassifier = sklearn.linear_model.LogisticRegression(solver = 'saga')\n",
    "LRModel = LRClassifier.fit(X_train, y_train.ravel())\n",
    "y_hat = LRModel.predict(X_test)\n",
    "print('ring_type Score is', LRModel.score(X_test,y_test.ravel()))\n",
    "print(sklearn.metrics.confusion_matrix(y_hat, y_test))\n",
    "print(\"Classification Report : \", sklearn.metrics.classification_report(y_hat, y_test))"
   ]
  },
  {
   "cell_type": "code",
   "execution_count": 93,
   "metadata": {},
   "outputs": [
    {
     "name": "stdout",
     "output_type": "stream",
     "text": [
      "spore_print_color Score is 0.872\n",
      "[[761  96]\n",
      " [112 656]]\n",
      "Classification Report :                precision    recall  f1-score   support\n",
      "\n",
      "         0.0       0.87      0.89      0.88       857\n",
      "         1.0       0.87      0.85      0.86       768\n",
      "\n",
      "   micro avg       0.87      0.87      0.87      1625\n",
      "   macro avg       0.87      0.87      0.87      1625\n",
      "weighted avg       0.87      0.87      0.87      1625\n",
      "\n"
     ]
    }
   ],
   "source": [
    "yspore_print_color,Xspore_print_color = patsy.dmatrices('C(edible,[[0],[1]]) ~ 0 + spore_print_color', data = msamples)\n",
    "X_train, X_test, y_train, y_test = sklearn.model_selection.train_test_split(Xspore_print_color, yspore_print_color, test_size=0.20)\n",
    "\n",
    "\n",
    "LRClassifier = sklearn.linear_model.LogisticRegression(solver = 'saga')\n",
    "LRModel = LRClassifier.fit(X_train, y_train.ravel())\n",
    "y_hat = LRModel.predict(X_test)\n",
    "print('spore_print_color Score is', LRModel.score(X_test,y_test.ravel()))\n",
    "print(sklearn.metrics.confusion_matrix(y_hat, y_test))\n",
    "print(\"Classification Report : \", sklearn.metrics.classification_report(y_hat, y_test))"
   ]
  },
  {
   "cell_type": "markdown",
   "metadata": {},
   "source": [
    "### Round 2\n",
    "\n",
    "After the first round, I selected the model with the best performance - I stuck with the logistic regression approach during all of this testing and development, thinking that would provide a consistent benchmark, though in later testing I apply KNN and decision tree methods. I gathered the model that perfomed the best, odor (accuracy 98.4% STRONGLY CORRELATED), and then tested the accuracy with each of the 4 remaining features to identify the top performer. This work is shown in the cell below - remaining is the top performing round 2 model (accuracy 99.3%). \n",
    "\n",
    "I had a goal of building a model that allowed for > 99.9% accuracy, because less than 1 in 1000 seemed like a pretty solid prediction, so I was hopeful that I could gain the <.7% accuracy with the addition of another feature. But piling on more than one more feature was not would not add much value, diminishing returns and unnecessary complexity.\n"
   ]
  },
  {
   "cell_type": "code",
   "execution_count": 94,
   "metadata": {},
   "outputs": [
    {
     "name": "stdout",
     "output_type": "stream",
     "text": [
      "odor|spore_print_color Score is 0.9938461538461538\n",
      "[[833  10]\n",
      " [  0 782]]\n",
      "Classification Report :                precision    recall  f1-score   support\n",
      "\n",
      "         0.0       1.00      0.99      0.99       843\n",
      "         1.0       0.99      1.00      0.99       782\n",
      "\n",
      "   micro avg       0.99      0.99      0.99      1625\n",
      "   macro avg       0.99      0.99      0.99      1625\n",
      "weighted avg       0.99      0.99      0.99      1625\n",
      "\n"
     ]
    }
   ],
   "source": [
    "# ************************Now we have the winning model X remaining features*****************8\n",
    "\n",
    "yodor__spore_print_color,Xodor__spore_print_color = patsy.dmatrices('C(edible,[[0],[1]]) ~ 0 + odor*spore_print_color', data = msamples)\n",
    "X_train, X_test, y_train, y_test = sklearn.model_selection.train_test_split(Xodor__spore_print_color, yodor__spore_print_color, test_size=0.20)\n",
    "\n",
    "\n",
    "LRClassifier = sklearn.linear_model.LogisticRegression(solver = 'saga')\n",
    "LRModel = LRClassifier.fit(X_train, y_train.ravel())\n",
    "y_hat = LRModel.predict(X_test)\n",
    "print('odor|spore_print_color Score is', LRModel.score(X_test,y_test.ravel()))\n",
    "print(sklearn.metrics.confusion_matrix(y_hat, y_test))\n",
    "print(\"Classification Report : \", sklearn.metrics.classification_report(y_hat, y_test))"
   ]
  },
  {
   "cell_type": "markdown",
   "metadata": {},
   "source": [
    "### Round 3\n",
    "\n",
    "The goal of 99.9% accuracy was much harder to hit than I expected. I tested the accuracy of the winning round 2 model, odor and spore print color, with not only the remaining 3 features, but all of the remaining 17 features (just to make sure) and was unable to break the 99.57 mark. The winning round 3 model was odor, spore print color, and stalk surface above ring."
   ]
  },
  {
   "cell_type": "code",
   "execution_count": 98,
   "metadata": {},
   "outputs": [
    {
     "name": "stdout",
     "output_type": "stream",
     "text": [
      "odor|spore_print_color|stalk_surface_above_ring Score is 0.9956923076923077\n",
      "[[818   7]\n",
      " [  0 800]]\n",
      "Classification Report :                precision    recall  f1-score   support\n",
      "\n",
      "         0.0       1.00      0.99      1.00       825\n",
      "         1.0       0.99      1.00      1.00       800\n",
      "\n",
      "   micro avg       1.00      1.00      1.00      1625\n",
      "   macro avg       1.00      1.00      1.00      1625\n",
      "weighted avg       1.00      1.00      1.00      1625\n",
      "\n"
     ]
    }
   ],
   "source": [
    "# ************************2nd Time Now we have the winning model X remaining features*****************8\n",
    "\n",
    "y,X = patsy.dmatrices('C(edible,[[0],[1]]) ~ 0 + odor*spore_print_color*stalk_surface_above_ring', data = msamples)\n",
    "X_train, X_test, y_train, y_test = sklearn.model_selection.train_test_split(X, y, test_size=0.20)\n",
    "\n",
    "\n",
    "LRClassifier = sklearn.linear_model.LogisticRegression(solver = 'saga')\n",
    "LRModel = LRClassifier.fit(X_train, y_train.ravel())\n",
    "y_hat = LRModel.predict(X_test)\n",
    "print('odor|spore_print_color|stalk_surface_above_ring Score is', LRModel.score(X_test,y_test.ravel()))\n",
    "print(sklearn.metrics.confusion_matrix(y_hat, y_test))\n",
    "print(\"Classification Report : \", sklearn.metrics.classification_report(y_hat, y_test))"
   ]
  },
  {
   "cell_type": "markdown",
   "metadata": {},
   "source": [
    "### Next Steps\n",
    "\n",
    "After I pushed the logistic regression as far as I could, but wasn't really confident that the other methods would provide an improvement in terms of accuracy, but would likely just vary in relation to their processing times. In the next two cells I applied the K nearest neighbors and decision tree methods, and they will consistently provide the exact same accuracy and decisioning as the logistic regression model, seen in the confusion matrix. "
   ]
  },
  {
   "cell_type": "code",
   "execution_count": 99,
   "metadata": {},
   "outputs": [
    {
     "name": "stdout",
     "output_type": "stream",
     "text": [
      "Score is 0.9956923076923077\n",
      "[[818   7]\n",
      " [  0 800]]\n",
      "Classification Report :                precision    recall  f1-score   support\n",
      "\n",
      "         0.0       1.00      0.99      1.00       825\n",
      "         1.0       0.99      1.00      1.00       800\n",
      "\n",
      "   micro avg       1.00      1.00      1.00      1625\n",
      "   macro avg       1.00      1.00      1.00      1625\n",
      "weighted avg       1.00      1.00      1.00      1625\n",
      "\n"
     ]
    }
   ],
   "source": [
    "KNNClassifier = sklearn.neighbors.KNeighborsClassifier(n_neighbors=1)\n",
    "KNNModel = KNNClassifier.fit(X_train, y_train.ravel())\n",
    "y_hat = KNNModel.predict(X_test)\n",
    "print('Score is', KNNModel.score(X_test,y_test.ravel()))\n",
    "print(sklearn.metrics.confusion_matrix(y_hat, y_test))\n",
    "print(\"Classification Report : \", sklearn.metrics.classification_report(y_hat, y_test))"
   ]
  },
  {
   "cell_type": "code",
   "execution_count": 100,
   "metadata": {},
   "outputs": [
    {
     "name": "stdout",
     "output_type": "stream",
     "text": [
      "Score is 0.9956923076923077\n",
      "[[818   7]\n",
      " [  0 800]]\n",
      "Classification Report :                precision    recall  f1-score   support\n",
      "\n",
      "         0.0       1.00      0.99      1.00       825\n",
      "         1.0       0.99      1.00      1.00       800\n",
      "\n",
      "   micro avg       1.00      1.00      1.00      1625\n",
      "   macro avg       1.00      1.00      1.00      1625\n",
      "weighted avg       1.00      1.00      1.00      1625\n",
      "\n"
     ]
    }
   ],
   "source": [
    "DTClassifier = sklearn.tree.DecisionTreeClassifier()\n",
    "DTModel = DTClassifier.fit(X_train, y_train.ravel())\n",
    "y_hat = DTModel.predict(X_test)\n",
    "print('Score is', DTModel.score(X_test,y_test.ravel()))\n",
    "print(sklearn.metrics.confusion_matrix(y_hat, y_test))\n",
    "print(\"Classification Report : \", sklearn.metrics.classification_report(y_hat, y_test))"
   ]
  },
  {
   "cell_type": "markdown",
   "metadata": {},
   "source": [
    "### Conclusion\n",
    "\n",
    "In conclusion, you can classify to a reasonable level of accuracy (99.6%) with 2 to 3 features, with this dataset there were only this many that held any relational significance to edible feature. Still, I did not achieve my goal of 99.9% accuracy. The benefit of this model is that the failures in the classification are false negatives (determining that a mushroom is poisonous when its edible) rather than false positives (determining a musroom is edible when it is poisonous. So, really if you are just focused on 'determining whether a mushroom is edible, the model has 100% accuracy.\n",
    "\n",
    "Maybe I did accomplish my goal after all!"
   ]
  },
  {
   "cell_type": "code",
   "execution_count": null,
   "metadata": {},
   "outputs": [],
   "source": []
  }
 ],
 "metadata": {
  "kernelspec": {
   "display_name": "Python 3",
   "language": "python",
   "name": "python3"
  },
  "language_info": {
   "codemirror_mode": {
    "name": "ipython",
    "version": 3
   },
   "file_extension": ".py",
   "mimetype": "text/x-python",
   "name": "python",
   "nbconvert_exporter": "python",
   "pygments_lexer": "ipython3",
   "version": "3.6.7"
  }
 },
 "nbformat": 4,
 "nbformat_minor": 2
}
